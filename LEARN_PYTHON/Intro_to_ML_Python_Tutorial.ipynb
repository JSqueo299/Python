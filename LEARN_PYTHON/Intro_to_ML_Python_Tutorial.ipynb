{
 "cells": [
  {
   "cell_type": "markdown",
   "metadata": {},
   "source": [
    "# Python Tutorial"
   ]
  },
  {
   "cell_type": "markdown",
   "metadata": {},
   "source": [
    "### 1 Numpy\n",
    "#### 1.1 What is Numpy?\n",
    "\n",
    "Package: [NumPy](http://www.numpy.org)  \n",
    "[NumPy](http://www.numpy.org) (Numerical Python) is an open source Python library, and now it has became the universal standard for working with numerical data in Python. \n",
    "(Numerical data: age, weight, salary etc. Non-numerical data sometimes also can be transfered to numerical data: e.g. 0 for male, 1 for female.)\n",
    "\n",
    "\n",
    "The NumPy library contains multidimensional array data structures. Multi-dimensional: Vector (1D), Matrix(2D), Tensor(3+D)\n",
    "NumPy can be used to perform a wide variety of mathematical operations on arrays.\n",
    "\n",
    "#### 1.2 Why Numpy?\n",
    "##### Efficient!\n",
    "Calculation Efficiency:  Guarantee efficient calculations with arrays and matrices   \n",
    "Coding Efficiency: provide enormous library of high-level mathematical functions that operate on these arrays and matrices.  \n",
    "##### Standard!\n",
    "Universal standard: the NumPy API is used extensively in Pandas, SciPy, Matplotlib, scikit-learn, scikit-image and most other data science and scientific Python packages.\n",
    "\n",
    "**Documentation Reference:**  https://numpy.org/doc/\n",
    "\n",
    "**User Guide:**  https://numpy.org/doc/stable/numpy-user.pdf"
   ]
  },
  {
   "cell_type": "markdown",
   "metadata": {},
   "source": [
    "### 2. Using Numpy\n",
    "#### 2.1 Installing\n",
    "Use conda or pip in terminal(Mac/Linux)/Anaconda prompt(Windows): (See Tool Installation and Set-up)  \n",
    "conda install numpy  \n",
    "or  \n",
    "pip install numpy"
   ]
  },
  {
   "cell_type": "markdown",
   "metadata": {},
   "source": [
    "#### 2.2 Import Numpy\n",
    "Any time you want to use a package or library in your code, you first need to make it accessible.    \n",
    "In order to start using NumPy and all of the functions available in NumPy, you’ll need to import it. This can be easily done with this import statement:"
   ]
  },
  {
   "cell_type": "markdown",
   "metadata": {},
   "source": [
    "It's standard convention to shorten up ```numpy``` as ```np``` to save time and make it easier for others to work on your code"
   ]
  },
  {
   "cell_type": "code",
   "execution_count": 1,
   "metadata": {},
   "outputs": [],
   "source": [
    "# Convension: use np for short\n",
    "import numpy as np"
   ]
  },
  {
   "cell_type": "markdown",
   "metadata": {},
   "source": [
    "#### 2.3 What is an array?\n",
    "An array is a grid of values. (the elements are all of the same type and same shape)  \n",
    "E.g. matrix is a grid of values, look at rows, all rows have same length and data type; look at columns, all columns have same length and data type.   \n",
    "List of list may not be a grid of values. \n",
    "\n",
    "The NumPy ndarray (N-dimensional array) class is used to represent both matrices and vectors, and N-dimentional arrays.  \n",
    ".shape to check the shape and .dtype to check the type"
   ]
  },
  {
   "cell_type": "code",
   "execution_count": 2,
   "metadata": {},
   "outputs": [
    {
     "name": "stdout",
     "output_type": "stream",
     "text": [
      "[1 2 3]\n",
      "(3,)\n",
      "int32\n"
     ]
    }
   ],
   "source": [
    "# Vector\n",
    "vec = np.array([1,2,3])\n",
    "print(vec)\n",
    "print(vec.shape)\n",
    "print(vec.dtype)"
   ]
  },
  {
   "cell_type": "code",
   "execution_count": 3,
   "metadata": {},
   "outputs": [
    {
     "name": "stdout",
     "output_type": "stream",
     "text": [
      "[[1 2 3]\n",
      " [2 3 4]]\n",
      "(2, 3)\n"
     ]
    }
   ],
   "source": [
    "# Matrix\n",
    "X = np.array([[1,2,3],[2,3,4]])\n",
    "print(X)\n",
    "print(X.shape)"
   ]
  },
  {
   "cell_type": "code",
   "execution_count": 4,
   "metadata": {},
   "outputs": [
    {
     "name": "stdout",
     "output_type": "stream",
     "text": [
      "[[[1 2 3]\n",
      "  [2 3 4]]\n",
      "\n",
      " [[1 2 3]\n",
      "  [2 3 4]]]\n",
      "(2, 2, 3)\n"
     ]
    }
   ],
   "source": [
    "X_3D = np.array([[[1,2,3],[2,3,4]], [[1,2,3],[2,3,4]]])\n",
    "print(X_3D)\n",
    "print(X_3D.shape)"
   ]
  },
  {
   "cell_type": "markdown",
   "metadata": {},
   "source": [
    "#### 2.4 Create Array\n",
    "We have seen creating array by np.array() in previous block.  \n",
    "More: np.zeros(), np.ones(), np.arange() etc...  \n",
    "dtype for data type: np.float64, np.int64, np.bool etc."
   ]
  },
  {
   "cell_type": "code",
   "execution_count": 5,
   "metadata": {},
   "outputs": [
    {
     "name": "stdout",
     "output_type": "stream",
     "text": [
      "vec_0 value is: \n",
      "[0. 0.]\n",
      "vec_1 value is: \n",
      "[1. 1. 1.]\n"
     ]
    }
   ],
   "source": [
    "# Initial by 0, 1 value\n",
    "vec_0 = np.zeros(2)\n",
    "print('vec_0 value is: ')\n",
    "print(vec_0)\n",
    "vec_1 = np.ones(3)\n",
    "print('vec_1 value is: ')\n",
    "print(vec_1)"
   ]
  },
  {
   "cell_type": "code",
   "execution_count": 6,
   "metadata": {},
   "outputs": [
    {
     "name": "stdout",
     "output_type": "stream",
     "text": [
      "X_0 value is:\n",
      "[[0. 0. 0.]\n",
      " [0. 0. 0.]]\n",
      "X_1 value is:\n",
      "[[1. 1. 1.]\n",
      " [1. 1. 1.]]\n"
     ]
    }
   ],
   "source": [
    "X_0 = np.zeros((2,3))\n",
    "print('X_0 value is:')\n",
    "print(X_0)\n",
    "X_1 = np.ones((2,3))\n",
    "print('X_1 value is:')\n",
    "print(X_1)"
   ]
  },
  {
   "cell_type": "markdown",
   "metadata": {},
   "source": [
    "### 2.5 Indexing and slicing\n",
    "#### 2.5.1 By Index\n",
    "\n",
    "In Python, list/array index starts at 0."
   ]
  },
  {
   "cell_type": "code",
   "execution_count": 7,
   "metadata": {},
   "outputs": [
    {
     "name": "stdout",
     "output_type": "stream",
     "text": [
      "vec is: [1 2 3]\n",
      "the 1st element in vec is 1.0\n",
      "the last element in vec is 1.0\n",
      "1.0\n"
     ]
    }
   ],
   "source": [
    "# Vector Indexing\n",
    "\n",
    "print('vec is: {}'.format(vec))\n",
    "# the i-th element in vec: vec[i-1]\n",
    "\n",
    "print('the 1st element in vec is {}'.format(vec_1[0]))\n",
    "# the last j-th element in vec: vec[-j]\n",
    "\n",
    "print('the last element in vec is {}'.format(vec_1[-1]))\n",
    "len_vec = vec.shape[0]\n",
    "print(vec_1[len_vec-1])"
   ]
  },
  {
   "cell_type": "code",
   "execution_count": 8,
   "metadata": {},
   "outputs": [
    {
     "name": "stdout",
     "output_type": "stream",
     "text": [
      "X is: \n",
      "[[1 2 3]\n",
      " [2 3 4]]\n",
      "the 1st row in X is [1 2 3]\n",
      "Another way to get the 1st row [1 2 3]\n",
      "the 1st col in X is [1 2]\n",
      "the (1,2) ele in X is 2\n"
     ]
    }
   ],
   "source": [
    "# Matrix Indexing\n",
    "\n",
    "X = np.array([[1,2,3],[2,3,4]])\n",
    "print('X is: \\n{}'.format(X))\n",
    "\n",
    "# i-th row vector of matrix: X[i-1] or X[i-1,:]\n",
    "print('the 1st row in X is {}'.format(X[0]))\n",
    "print('Another way to get the 1st row {}'.format(X[0,:]))\n",
    "\n",
    "# j-th column vector of matrix: X[:,j-1]\n",
    "print('the 1st col in X is {}'.format(X[:,0]))\n",
    "\n",
    "# (i,j) th element: X[i-1,j-1]\n",
    "print('the (1,2) ele in X is {}'.format(X[0,1]))\n"
   ]
  },
  {
   "cell_type": "markdown",
   "metadata": {},
   "source": [
    "### 2.6 Modify Arrays"
   ]
  },
  {
   "cell_type": "markdown",
   "metadata": {},
   "source": [
    "#### 2.6.1 Modify value in array"
   ]
  },
  {
   "cell_type": "code",
   "execution_count": 9,
   "metadata": {},
   "outputs": [
    {
     "name": "stdout",
     "output_type": "stream",
     "text": [
      "a: \n",
      " [[ 1  2  3  4]\n",
      " [ 5  6  7  8]\n",
      " [ 9 10 11 12]]\n",
      "modify 2nd row, 3rd col ele: \n",
      " [[ 1  2  3  4]\n",
      " [ 5  6 10  8]\n",
      " [ 9 10 11 12]]\n",
      "modify 2nd and 3rd row, 4th col ele: \n",
      " [[ 1  2  3  4]\n",
      " [ 5  6 10 20]\n",
      " [ 9 10 11 20]]\n",
      "modify 1st row: \n",
      " [[ 1  0  1  0]\n",
      " [ 5  6 10 20]\n",
      " [ 9 10 11 20]]\n",
      "modify by condition: \n",
      " [[-2 -2 -2 -2]\n",
      " [-2  6 10 20]\n",
      " [ 9 10 11 20]]\n"
     ]
    }
   ],
   "source": [
    "a = np.array([[1 , 2, 3, 4], [5, 6, 7, 8], [9, 10, 11, 12]])\n",
    "print('a: \\n', a)\n",
    "a[1,2] = 10\n",
    "print('modify 2nd row, 3rd col ele: \\n', a)\n",
    "a[1:, 3] = 20\n",
    "print('modify 2nd and 3rd row, 4th col ele: \\n', a)\n",
    "a[0,:] = np.array([1,0,1,0])\n",
    "print('modify 1st row: \\n', a)\n",
    "a[a<6] = -2\n",
    "print('modify by condition: \\n', a)\n"
   ]
  },
  {
   "cell_type": "markdown",
   "metadata": {},
   "source": [
    "#### 2.6.2 Combine Arrays`"
   ]
  },
  {
   "cell_type": "code",
   "execution_count": 10,
   "metadata": {},
   "outputs": [
    {
     "name": "stdout",
     "output_type": "stream",
     "text": [
      "mat1: \n",
      " [[1 2 3]\n",
      " [2 3 4]]\n",
      "mat2: \n",
      " [[1 3 5]\n",
      " [2 4 6]]\n",
      "Concatenate along 1st dimension\n",
      "[[1 2 3]\n",
      " [2 3 4]\n",
      " [1 3 5]\n",
      " [2 4 6]]\n",
      "number of rows increase, number of columns keep the same\n",
      "Concatenate along 2nd dimension\n",
      "[[1 2 3 1]\n",
      " [2 3 4 2]]\n",
      "[[1 2 3 1 3 5]\n",
      " [2 3 4 2 4 6]]\n",
      "number of columns increase, number of rows keep the same\n"
     ]
    }
   ],
   "source": [
    "# Concatenate: np.concatenate\n",
    "mat1 = np.array([[1,2,3],[2,3,4]])\n",
    "mat2 = np.array([[1,3,5],[2,4,6]])\n",
    "print('mat1: \\n', mat1)\n",
    "print('mat2: \\n', mat2)\n",
    "print('Concatenate along 1st dimension')\n",
    "print(np.concatenate((mat1, mat2), axis = 0))\n",
    "print('number of rows increase, number of columns keep the same')\n",
    "\n",
    "print('Concatenate along 2nd dimension')\n",
    "col_vec = np.array([[1], [2]])\n",
    "print(np.concatenate((mat1, col_vec), axis = 1))\n",
    "print(np.concatenate((mat1, mat2), axis = 1))\n",
    "print('number of columns increase, number of rows keep the same')"
   ]
  },
  {
   "cell_type": "markdown",
   "metadata": {},
   "source": [
    "#### 2.6.3 Reshape Array"
   ]
  },
  {
   "cell_type": "code",
   "execution_count": 11,
   "metadata": {},
   "outputs": [
    {
     "name": "stdout",
     "output_type": "stream",
     "text": [
      "raw row_vec: \n",
      " (3,)\n",
      "reshaped row_vec: \n",
      " [[0]\n",
      " [1]\n",
      " [0]]\n",
      "(3, 1)\n",
      "mat1: \n",
      " [[1 2 3]\n",
      " [2 3 4]]\n",
      "reshaped mat1: \n",
      " [1 2 3 2 3 4]\n",
      "reshaped mat1: \n",
      " [1 2 3 2 3 4]\n",
      "reshaped mat1: \n",
      " [[1 2]\n",
      " [3 2]\n",
      " [3 4]]\n"
     ]
    }
   ],
   "source": [
    "# transform shape: reshape\n",
    "row_vec = np.array([0,1,0])\n",
    "print('raw row_vec: \\n', row_vec.shape)\n",
    "row_vec_reshape = row_vec.reshape(3,1)\n",
    "print('reshaped row_vec: \\n', row_vec_reshape)\n",
    "print(row_vec_reshape.shape)\n",
    "\n",
    "mat1 = np.array([[1,2,3],[2,3,4]])\n",
    "print('mat1: \\n', mat1)\n",
    "mat1_reshape = mat1.reshape((6))\n",
    "print('reshaped mat1: \\n', mat1_reshape)\n",
    "mat1_reshape = mat1.reshape((-1))\n",
    "print('reshaped mat1: \\n', mat1_reshape)\n",
    "mat1_reshape = mat1.reshape((3,-1))\n",
    "print('reshaped mat1: \\n', mat1_reshape)"
   ]
  },
  {
   "cell_type": "code",
   "execution_count": null,
   "metadata": {},
   "outputs": [],
   "source": []
  },
  {
   "cell_type": "markdown",
   "metadata": {},
   "source": [
    "### 2.7 Matrix Computation\n"
   ]
  },
  {
   "cell_type": "markdown",
   "metadata": {},
   "source": [
    "#### 2.7.1 Transpose"
   ]
  },
  {
   "cell_type": "code",
   "execution_count": 12,
   "metadata": {},
   "outputs": [
    {
     "name": "stdout",
     "output_type": "stream",
     "text": [
      "[[1 2 3]\n",
      " [2 3 4]]\n",
      "Transposed X:\n",
      "[[1 2]\n",
      " [2 3]\n",
      " [3 4]]\n",
      "Using .tranpose(X):\n",
      "[[1 2]\n",
      " [2 3]\n",
      " [3 4]]\n"
     ]
    }
   ],
   "source": [
    "# Transpose: X.T \n",
    "print(X)\n",
    "print('Transposed X:')\n",
    "print(X.T) \n",
    "\n",
    "# or np.transpose(X)\n",
    "print('Using .tranpose(X):')\n",
    "print(np.transpose(X))"
   ]
  },
  {
   "cell_type": "markdown",
   "metadata": {},
   "source": [
    "#### 2.7.2 Inverse"
   ]
  },
  {
   "cell_type": "code",
   "execution_count": 13,
   "metadata": {},
   "outputs": [
    {
     "data": {
      "text/plain": [
       "array([[ 1.25, -1.  ,  0.25],\n",
       "       [-6.5 ,  5.  , -0.5 ],\n",
       "       [ 4.25, -3.  ,  0.25]])"
      ]
     },
     "execution_count": 13,
     "metadata": {},
     "output_type": "execute_result"
    }
   ],
   "source": [
    "# Inverse: numpy.linalg.inv\n",
    "X_square = np.array([[1,2,3],[2,3,4],[7,2,1]])\n",
    "np.linalg.inv(X_square)"
   ]
  },
  {
   "cell_type": "markdown",
   "metadata": {},
   "source": [
    "#### 2.7.3 Diagonal Elements/Matrix"
   ]
  },
  {
   "cell_type": "code",
   "execution_count": 14,
   "metadata": {},
   "outputs": [
    {
     "name": "stdout",
     "output_type": "stream",
     "text": [
      "Diagonal elements of Matrix\n",
      "[1 3 1]\n",
      "form a diagonal matrix from a vector\n",
      "[[1 0 0]\n",
      " [0 2 0]\n",
      " [0 0 1]]\n"
     ]
    }
   ],
   "source": [
    "# Diagonal: numpy.diag\n",
    "## get diagonal elements of Matrix\n",
    "print('Diagonal elements of Matrix')\n",
    "print(np.diag(X_square))\n",
    "\n",
    "## form a diagonal matrix from a vector\n",
    "print('form a diagonal matrix from a vector')\n",
    "print(np.diag(np.array([1,2,1])))"
   ]
  },
  {
   "cell_type": "markdown",
   "metadata": {},
   "source": [
    "#### 2.7.4 Add"
   ]
  },
  {
   "cell_type": "code",
   "execution_count": 15,
   "metadata": {},
   "outputs": [
    {
     "name": "stdout",
     "output_type": "stream",
     "text": [
      "[[1 2 3]\n",
      " [2 3 4]]\n",
      "[[4 1 1]\n",
      " [5 0 2]]\n",
      "Add mat1 and mat2\n",
      "[[5 3 4]\n",
      " [7 3 6]]\n"
     ]
    }
   ],
   "source": [
    "### Add Computation\n",
    "mat1 = np.array([[1,2,3],[2,3,4]])\n",
    "mat2 = np.array([[4,1,1],[5,0,2]])\n",
    "print(mat1)\n",
    "print(mat2)\n",
    "mat3 = mat1 + mat2\n",
    "print('Add mat1 and mat2')\n",
    "print(mat3)"
   ]
  },
  {
   "cell_type": "markdown",
   "metadata": {},
   "source": [
    "#### 2.7.5 **Broadcasting**\n",
    "There are times when you might want to carry out an operation between an array and a single number (also called an operation between a vector and a scalar) or between arrays of two different sizes.  \n",
    "e.g. we want to add a value 1 to every number in andarray: X + 1  \n",
    "NumPy understands that the addition should happen with each cell.  "
   ]
  },
  {
   "cell_type": "code",
   "execution_count": 16,
   "metadata": {},
   "outputs": [
    {
     "name": "stdout",
     "output_type": "stream",
     "text": [
      "Original Matrix: \n",
      "[[1 2 3]\n",
      " [2 3 4]]\n",
      "Add a scalar value 1 for every element in Matrix: \n",
      "[[2 3 4]\n",
      " [3 4 5]]\n",
      "Add a vector [0,1,0] for every row vector in Matrix: \n",
      "[[1 3 3]\n",
      " [2 4 4]]\n",
      "Check the shape of Matrix and Add Vector\n",
      "(2, 3)\n",
      "(3,)\n"
     ]
    }
   ],
   "source": [
    "# Boradcasting in Matrix Add: https://docs.scipy.org/doc/numpy/user/basics.broadcasting.html\n",
    "print('Original Matrix: ')\n",
    "print(mat1)\n",
    "# add a single value for every element in matrix\n",
    "print('Add a scalar value 1 for every element in Matrix: ')\n",
    "print(mat1 + 1)\n",
    "\n",
    "# add an vector to a matrix, the vector will be added to every row/column vector of matrix, default is row vector.\n",
    "print('Add a vector [0,1,0] for every row vector in Matrix: ')\n",
    "row_vec = np.array([0,1,0])\n",
    "print(mat1 + row_vec)\n",
    "\n",
    "# the vector need to have save size as row/column vector.\n",
    "print('Check the shape of Matrix and Add Vector')\n",
    "print(mat1.shape)\n",
    "print(row_vec.shape)\n",
    "\n",
    "# print(mat1 + np.ones(4))"
   ]
  },
  {
   "cell_type": "code",
   "execution_count": 17,
   "metadata": {},
   "outputs": [
    {
     "name": "stdout",
     "output_type": "stream",
     "text": [
      "Add to column vector of Matrix\n",
      "[[1]\n",
      " [2]]\n",
      "(2, 1)\n",
      "[[2 3 4]\n",
      " [4 5 6]]\n"
     ]
    }
   ],
   "source": [
    "# add to column vector of Matrix\n",
    "print('Add to column vector of Matrix')\n",
    "col_vec = np.array([[1], [2]])\n",
    "\n",
    "print(col_vec)\n",
    "add_column = np.add(mat1, col_vec)\n",
    "\n",
    "print(col_vec.shape)\n",
    "print(add_column)"
   ]
  },
  {
   "cell_type": "markdown",
   "metadata": {},
   "source": [
    "#### 2.7.6 Matrix Element-wise Multiplication"
   ]
  },
  {
   "cell_type": "code",
   "execution_count": 18,
   "metadata": {},
   "outputs": [
    {
     "name": "stdout",
     "output_type": "stream",
     "text": [
      "[[1 2 3]\n",
      " [2 3 4]]\n",
      "[[ 1  4  9]\n",
      " [ 4  9 16]]\n"
     ]
    }
   ],
   "source": [
    "### element wise, use *\n",
    "print(mat1)\n",
    "print(mat1 * mat1)"
   ]
  },
  {
   "cell_type": "code",
   "execution_count": 19,
   "metadata": {},
   "outputs": [
    {
     "name": "stdout",
     "output_type": "stream",
     "text": [
      "mat1: \n",
      " [[1 2 3]\n",
      " [2 3 4]]\n",
      "mat1 * 2: \n",
      " [[2 4 6]\n",
      " [4 6 8]]\n",
      "broadcast\n",
      "[[0 2 0]\n",
      " [0 3 0]]\n",
      "[[ 2  4  6]\n",
      " [ 6  9 12]]\n"
     ]
    }
   ],
   "source": [
    "# Also have Broadcasting\n",
    "print('mat1: \\n', mat1)\n",
    "print('mat1 * 2: \\n', mat1 * 2)\n",
    "\n",
    "print('broadcast')\n",
    "row_vec = np.array([0,1,0])\n",
    "print(mat1 * row_vec)\n",
    "col_vec = np.array([[2], [3]])\n",
    "print(mat1 * col_vec)"
   ]
  },
  {
   "cell_type": "markdown",
   "metadata": {},
   "source": [
    "#### 2.7.7 Matrix Multiplication"
   ]
  },
  {
   "cell_type": "code",
   "execution_count": 20,
   "metadata": {},
   "outputs": [
    {
     "data": {
      "image/png": "[encoded data removed]",
      "text/plain": [
       "<IPython.core.display.Image object>"
      ]
     },
     "execution_count": 20,
     "metadata": {},
     "output_type": "execute_result"
    }
   ],
   "source": [
    "from IPython.display import Image\n",
    "Image(filename = 'matrix_mul.png')"
   ]
  },
  {
   "cell_type": "code",
   "execution_count": 21,
   "metadata": {},
   "outputs": [
    {
     "name": "stdout",
     "output_type": "stream",
     "text": [
      "[[2]\n",
      " [3]]\n",
      "Multiplying Column Vector with its Transpose\n",
      "[[4 6]\n",
      " [6 9]]\n",
      "Multiplying Column Vector Tranpose with Column Vector\n",
      "[[13]]\n"
     ]
    }
   ],
   "source": [
    "### Matrix Multiplication: numpy.matmul\n",
    "print(col_vec)\n",
    "\n",
    "# col_vec * col_vec.T\n",
    "print('Multiplying Column Vector with its Transpose')\n",
    "print(np.matmul(col_vec, col_vec.T))\n",
    "\n",
    "# col_vec.T * col_vec\n",
    "print('Multiplying Column Vector Tranpose with Column Vector')\n",
    "print(np.matmul(col_vec.T, col_vec))"
   ]
  },
  {
   "cell_type": "markdown",
   "metadata": {},
   "source": [
    "#### 2.8 Combine Numpy Arrays"
   ]
  },
  {
   "cell_type": "code",
   "execution_count": 22,
   "metadata": {},
   "outputs": [
    {
     "name": "stdout",
     "output_type": "stream",
     "text": [
      "[[1 2 3]\n",
      " [2 3 4]]\n",
      "Concatenate along 1st dimension\n",
      "[[1 2 3]\n",
      " [2 3 4]\n",
      " [0 1 0]]\n",
      "Concatenate along 2nd dimension\n",
      "[[1 2 3 2]\n",
      " [2 3 4 3]]\n"
     ]
    }
   ],
   "source": [
    "# Concatenate: np.concatenate\n",
    "print(mat1)\n",
    "print('Concatenate along 1st dimension')\n",
    "\n",
    "# print(np.concatenate((mat1, mat1), axis = 0))\n",
    "print(np.concatenate((mat1, row_vec.reshape(1,3)), axis = 0))\n",
    "\n",
    "print('Concatenate along 2nd dimension')\n",
    "print(np.concatenate((mat1, col_vec), axis = 1))"
   ]
  },
  {
   "cell_type": "markdown",
   "metadata": {},
   "source": [
    "#### 2.9 Finding the Norm"
   ]
  },
  {
   "cell_type": "code",
   "execution_count": 23,
   "metadata": {},
   "outputs": [
    {
     "name": "stdout",
     "output_type": "stream",
     "text": [
      "[[1 2 3]\n",
      " [2 3 4]]\n",
      "mat1 norm using np: \n"
     ]
    },
    {
     "data": {
      "text/plain": [
       "6.557438524302"
      ]
     },
     "execution_count": 23,
     "metadata": {},
     "output_type": "execute_result"
    }
   ],
   "source": [
    "# np.linal.norm()\n",
    "\n",
    "print(mat1)\n",
    "print(\"mat1 norm using np: \")\n",
    "np.linalg.norm(mat1)"
   ]
  },
  {
   "cell_type": "code",
   "execution_count": 24,
   "metadata": {},
   "outputs": [
    {
     "name": "stdout",
     "output_type": "stream",
     "text": [
      "mat1 norm manual: \n",
      "6.557438524302\n"
     ]
    }
   ],
   "source": [
    "# manual check\n",
    "import math\n",
    "\n",
    "print(\"mat1 norm manual: \")\n",
    "row1 = (mat1[0][0]**2 + mat1[0][1]**2 + mat1[0][2]**2)\n",
    "row2 = (mat1[1][0]**2 + mat1[1][1]**2 + mat1[1][2]**2)\n",
    "X = math.sqrt(row1 + row2)\n",
    "print(X)"
   ]
  },
  {
   "cell_type": "code",
   "execution_count": 25,
   "metadata": {},
   "outputs": [
    {
     "data": {
      "text/plain": [
       "7.0"
      ]
     },
     "execution_count": 25,
     "metadata": {},
     "output_type": "execute_result"
    }
   ],
   "source": [
    "# L1 norm \n",
    "\n",
    "np.linalg.norm(mat1, 1)"
   ]
  },
  {
   "cell_type": "code",
   "execution_count": 26,
   "metadata": {},
   "outputs": [
    {
     "data": {
      "text/plain": [
       "9.0"
      ]
     },
     "execution_count": 26,
     "metadata": {},
     "output_type": "execute_result"
    }
   ],
   "source": [
    "# L_inf norm\n",
    "np.linalg.norm(mat1, np.inf)"
   ]
  },
  {
   "cell_type": "code",
   "execution_count": 27,
   "metadata": {},
   "outputs": [
    {
     "data": {
      "text/plain": [
       "6.557438524302"
      ]
     },
     "execution_count": 27,
     "metadata": {},
     "output_type": "execute_result"
    }
   ],
   "source": [
    "np.linalg.norm(mat1, None)"
   ]
  },
  {
   "cell_type": "markdown",
   "metadata": {},
   "source": [
    "#### 2.10 Statistics\n",
    "\n",
    "minimum, maximum, mean, standard deviation etc."
   ]
  },
  {
   "cell_type": "code",
   "execution_count": 28,
   "metadata": {},
   "outputs": [
    {
     "name": "stdout",
     "output_type": "stream",
     "text": [
      "[[1 2 3]\n",
      " [2 3 4]]\n",
      "4\n",
      "1\n",
      "2.5\n",
      "0.9574271077563381\n",
      "15\n",
      "[1.5 2.5 3.5]\n",
      "[6 9]\n"
     ]
    }
   ],
   "source": [
    "print(mat1)\n",
    "print(mat1.max())\n",
    "print(mat1.min())\n",
    "print(mat1.mean())\n",
    "print(mat1.std())\n",
    "print(mat1.sum())\n",
    "\n",
    "# statistics along one dimension\n",
    "print(mat1.mean(axis = 0))\n",
    "print(mat1.sum(axis = 1))"
   ]
  },
  {
   "cell_type": "markdown",
   "metadata": {},
   "source": [
    "### 3. More resources for Numpy\n",
    "\n",
    "Links to User Guide, and various parts of the documentation relevant to parts mentioned above\n",
    "\n",
    "- https://numpy.org/doc/stable/numpy-user.pdf\n",
    "- https://numpy.org/devdocs/user/absolute_beginners.html#indexing-and-slicing\n",
    "- https://numpy.org/doc/stable/user/basics.creation.html\n",
    "- https://numpy.org/doc/stable/user/basics.indexing.html\n",
    "- https://numpy.org/doc/stable/user/basics.broadcasting.html"
   ]
  },
  {
   "cell_type": "markdown",
   "metadata": {},
   "source": [
    "### 4. Using sci-kit learn"
   ]
  },
  {
   "cell_type": "markdown",
   "metadata": {},
   "source": [
    "#### 4.1 Installing sci-kit learn\n",
    "Use conda or pip in terminal(Mac/Linux)/Anaconda prompt(Windows): (See Tool Installation and Set-up)  \n",
    "conda install sklearn\n",
    "or  \n",
    "pip install sklearn"
   ]
  },
  {
   "cell_type": "markdown",
   "metadata": {},
   "source": [
    "#### 4.2 Import Sci-kit Learn\n",
    "\n",
    "Same as numpy, every use require an import, notice \"sci-kit learn\" has already been abbreviated to \"sklearn\""
   ]
  },
  {
   "cell_type": "code",
   "execution_count": 29,
   "metadata": {},
   "outputs": [],
   "source": [
    "import sklearn"
   ]
  },
  {
   "cell_type": "markdown",
   "metadata": {},
   "source": [
    "More commonly, we use ```from sklearn import someClassifier``` to specify the classifier that is needed to be called such as the following example:"
   ]
  },
  {
   "cell_type": "code",
   "execution_count": 30,
   "metadata": {},
   "outputs": [],
   "source": [
    "from sklearn import svm"
   ]
  },
  {
   "cell_type": "code",
   "execution_count": 31,
   "metadata": {},
   "outputs": [],
   "source": [
    "# another method of calling subpackages\n",
    "from sklearn.svm import SVC\n",
    "\n",
    "# yet another example\n",
    "from sklearn.model_selection import train_test_split"
   ]
  },
  {
   "cell_type": "markdown",
   "metadata": {},
   "source": [
    "#### 4.3 Linear Regression"
   ]
  },
  {
   "cell_type": "code",
   "execution_count": 32,
   "metadata": {},
   "outputs": [
    {
     "name": "stdout",
     "output_type": "stream",
     "text": [
      "[0.5 0.5]\n",
      "[0.83333333 1.5       ]\n"
     ]
    }
   ],
   "source": [
    "# Lienar Regression\n",
    "from sklearn import linear_model\n",
    "reg = linear_model.LinearRegression()\n",
    "reg.fit([[0, 0], [1, 1], [2, 2]], [0, 1, 2])\n",
    "print(reg.coef_)\n",
    "\n",
    "reg = linear_model.Ridge(alpha=.5)\n",
    "reg.fit([[0, 0], [1, 1]], [0, 1])\n",
    "print(reg.predict([[1, 1], [2, 2]]))"
   ]
  },
  {
   "cell_type": "markdown",
   "metadata": {},
   "source": [
    "#### 4.4 Logistic Regression"
   ]
  },
  {
   "cell_type": "markdown",
   "metadata": {},
   "source": [
    "Using ```sklearn.linear_model.LogisticRegression``` \n",
    "\n",
    "Documentation: https://scikit-learn.org/stable/modules/generated/sklearn.linear_model.LogisticRegression.html#sklearn.linear_model.LogisticRegression\n",
    "3-Class Classifier Reference Page:\n",
    "https://scikit-learn.org/stable/auto_examples/linear_model/plot_iris_logistic.html"
   ]
  },
  {
   "cell_type": "code",
   "execution_count": 33,
   "metadata": {},
   "outputs": [
    {
     "name": "stderr",
     "output_type": "stream",
     "text": [
      "C:\\Program Files (x86)\\Microsoft Visual Studio\\Shared\\Anaconda3_64\\lib\\site-packages\\sklearn\\linear_model\\logistic.py:432: FutureWarning: Default solver will be changed to 'lbfgs' in 0.22. Specify a solver to silence this warning.\n",
      "  FutureWarning)\n",
      "C:\\Program Files (x86)\\Microsoft Visual Studio\\Shared\\Anaconda3_64\\lib\\site-packages\\sklearn\\linear_model\\logistic.py:469: FutureWarning: Default multi_class will be changed to 'auto' in 0.22. Specify the multi_class option to silence this warning.\n",
      "  \"this warning.\", FutureWarning)\n"
     ]
    },
    {
     "data": {
      "text/plain": [
       "LogisticRegression(C=1.0, class_weight=None, dual=False, fit_intercept=True,\n",
       "                   intercept_scaling=1, l1_ratio=None, max_iter=100,\n",
       "                   multi_class='warn', n_jobs=None, penalty='l2',\n",
       "                   random_state=None, solver='warn', tol=0.0001, verbose=0,\n",
       "                   warm_start=False)"
      ]
     },
     "execution_count": 33,
     "metadata": {},
     "output_type": "execute_result"
    }
   ],
   "source": [
    "np.random.RandomState(seed=42)\n",
    "\n",
    "from sklearn.datasets import load_iris\n",
    "from sklearn.linear_model import LogisticRegression\n",
    "X, y = load_iris(return_X_y=True)\n",
    "clf = LogisticRegression()\n",
    "clf.fit(X, y)"
   ]
  },
  {
   "cell_type": "code",
   "execution_count": 34,
   "metadata": {},
   "outputs": [
    {
     "data": {
      "text/plain": [
       "array([[8.78030305e-01, 1.21958900e-01, 1.07949250e-05],\n",
       "       [7.97058292e-01, 2.02911413e-01, 3.02949242e-05]])"
      ]
     },
     "execution_count": 34,
     "metadata": {},
     "output_type": "execute_result"
    }
   ],
   "source": [
    "clf.predict_proba(X[:2, :])"
   ]
  },
  {
   "cell_type": "code",
   "execution_count": 35,
   "metadata": {},
   "outputs": [
    {
     "data": {
      "text/plain": [
       "0.96"
      ]
     },
     "execution_count": 35,
     "metadata": {},
     "output_type": "execute_result"
    }
   ],
   "source": [
    "clf.score(X, y)"
   ]
  },
  {
   "cell_type": "markdown",
   "metadata": {},
   "source": [
    "#### 4.5 Naive Bayes"
   ]
  },
  {
   "cell_type": "code",
   "execution_count": 36,
   "metadata": {},
   "outputs": [],
   "source": [
    "# Naive Bayes: \n",
    "from sklearn.datasets import load_iris\n",
    "from sklearn.model_selection import train_test_split\n",
    "from sklearn.naive_bayes import GaussianNB\n",
    "X, y = load_iris(return_X_y=True)\n",
    "X_train, X_test, y_train, y_test = train_test_split(X, y, test_size=0.5, random_state=0)\n",
    "gnb = GaussianNB()\n",
    "gnb.fit(X_train, y_train)\n",
    "y_pred = gnb.predict(X_test)"
   ]
  },
  {
   "cell_type": "code",
   "execution_count": 37,
   "metadata": {},
   "outputs": [
    {
     "name": "stdout",
     "output_type": "stream",
     "text": [
      "Number of mislabeled points out of a total 75 points : 4\n"
     ]
    }
   ],
   "source": [
    "print(\"Number of mislabeled points out of a total %d points : %d\"\n",
    "...       % (X_test.shape[0], (y_test != y_pred).sum()))"
   ]
  },
  {
   "cell_type": "markdown",
   "metadata": {},
   "source": [
    "#### 4.6 SVM"
   ]
  },
  {
   "cell_type": "code",
   "execution_count": 38,
   "metadata": {},
   "outputs": [
    {
     "data": {
      "text/plain": [
       "Pipeline(memory=None,\n",
       "         steps=[('standardscaler',\n",
       "                 StandardScaler(copy=True, with_mean=True, with_std=True)),\n",
       "                ('svc',\n",
       "                 SVC(C=1.0, cache_size=200, class_weight=None, coef0=0.0,\n",
       "                     decision_function_shape='ovr', degree=3, gamma='auto',\n",
       "                     kernel='rbf', max_iter=-1, probability=False,\n",
       "                     random_state=None, shrinking=True, tol=0.001,\n",
       "                     verbose=False))],\n",
       "         verbose=False)"
      ]
     },
     "execution_count": 38,
     "metadata": {},
     "output_type": "execute_result"
    }
   ],
   "source": [
    "# Support Vector Classification\n",
    "from sklearn.svm import SVC\n",
    "from sklearn.pipeline import make_pipeline\n",
    "from sklearn.preprocessing import StandardScaler\n",
    "\n",
    "X = np.array([[-1, -1], [-2, -1], [1, 1], [2, 1]])\n",
    "y = np.array([1, 1, 2, 2])\n",
    "clf = make_pipeline(StandardScaler(), SVC(gamma='auto'))\n",
    "clf.fit(X, y)"
   ]
  },
  {
   "cell_type": "code",
   "execution_count": 39,
   "metadata": {},
   "outputs": [
    {
     "name": "stdout",
     "output_type": "stream",
     "text": [
      "[1]\n",
      "[2]\n",
      "[1]\n",
      "[2]\n"
     ]
    }
   ],
   "source": [
    "print(clf.predict([[-0.8, -1]]))\n",
    "print(clf.predict([[-0.8, 1]]))\n",
    "print(clf.predict([[-0.7, 0]]))\n",
    "print(clf.predict([[0, 0.5]]))"
   ]
  }
 ],
 "metadata": {
  "kernelspec": {
   "display_name": "Python 3",
   "language": "python",
   "name": "python3"
  },
  "language_info": {
   "codemirror_mode": {
    "name": "ipython",
    "version": 3
   },
   "file_extension": ".py",
   "mimetype": "text/x-python",
   "name": "python",
   "nbconvert_exporter": "python",
   "pygments_lexer": "ipython3",
   "version": "3.6.5"
  }
 },
 "nbformat": 4,
 "nbformat_minor": 2
}
